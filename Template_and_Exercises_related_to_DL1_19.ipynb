{
  "nbformat": 4,
  "nbformat_minor": 0,
  "metadata": {
    "colab": {
      "name": "Template and Exercises related to DL1_19.ipynb",
      "version": "0.3.2",
      "provenance": [],
      "include_colab_link": true
    },
    "kernelspec": {
      "name": "python3",
      "display_name": "Python 3"
    }
  },
  "cells": [
    {
      "cell_type": "markdown",
      "metadata": {
        "id": "view-in-github",
        "colab_type": "text"
      },
      "source": [
        "<a href=\"https://colab.research.google.com/github/Damjanv1/fastai/blob/master/Template_and_Exercises_related_to_DL1_19.ipynb\" target=\"_parent\"><img src=\"https://colab.research.google.com/assets/colab-badge.svg\" alt=\"Open In Colab\"/></a>"
      ]
    },
    {
      "metadata": {
        "id": "Dc5-TiWNc3sS",
        "colab_type": "code",
        "colab": {}
      },
      "cell_type": "code",
      "source": [
        ""
      ],
      "execution_count": 0,
      "outputs": []
    },
    {
      "metadata": {
        "id": "3f4opcY_c4qz",
        "colab_type": "text"
      },
      "cell_type": "markdown",
      "source": [
        "The first three lines are directives that you want to run before starting every notebook.\n",
        "\n",
        "Autoreload is for updating the code automatically if people have made changes ot it. Matplotlib means produce the graph that we want inline (within) this code"
      ]
    },
    {
      "metadata": {
        "id": "Nj-rU2YTennP",
        "colab_type": "text"
      },
      "cell_type": "markdown",
      "source": [
        "when training code in data science the most important thing is to be able to experiment quickly."
      ]
    },
    {
      "metadata": {
        "id": "XmxZelBjdFtM",
        "colab_type": "code",
        "colab": {}
      },
      "cell_type": "code",
      "source": [
        "%reload_ext autoreload\n",
        "%autoreload 2\n",
        "%matplotlib inline\n",
        "??reload_ext\n",
        "??matplotlib inline\n"
      ],
      "execution_count": 0,
      "outputs": []
    },
    {
      "metadata": {
        "id": "pFwq-5S_ewMV",
        "colab_type": "text"
      },
      "cell_type": "markdown",
      "source": [
        "Going to be \n",
        "\n",
        "*   Going to be using academic data sets (Look for subreddits for Academic Data Sets)\n",
        "*    Kaggle \n",
        "\n",
        "Ideas to put into practice:\n",
        "\n",
        "\n",
        "*   Training Data to recognise timeouts using video feed\n",
        "*   List item\n",
        "\n",
        "\n",
        "\n"
      ]
    },
    {
      "metadata": {
        "id": "qBJw723_gKOo",
        "colab_type": "text"
      },
      "cell_type": "markdown",
      "source": [
        "fine grained classification to figure out what breed of pet \n",
        "if your data is not normalized it may not train well --> this applies to image data as well RGB go between 0 and 256 and very bright and very dim values should be accounted for by normalizing and producing values 0 - 1"
      ]
    },
    {
      "metadata": {
        "id": "TMwJ5CoXmZdb",
        "colab_type": "text"
      },
      "cell_type": "markdown",
      "source": [
        "Transfer Learning is leveraging a model that knows how to do something already well and leveraging it to do your task pretty well.\n",
        "To make sure that we do not overfit we need to use a validation data set. A validation data set is a data set that your model does not get to look at.\n",
        "Must use validation set print out metrics  that *tell you wether your model is overfitted or not* using the validation set\n",
        "press shift + tab to find out syntax"
      ]
    },
    {
      "metadata": {
        "id": "GAJoPswToz3K",
        "colab_type": "code",
        "colab": {
          "base_uri": "https://localhost:8080/",
          "height": 163
        },
        "outputId": "ef57049c-456f-4b12-cf86-9f471cdf6672"
      },
      "cell_type": "code",
      "source": [
        "len.data"
      ],
      "execution_count": 4,
      "outputs": [
        {
          "output_type": "error",
          "ename": "AttributeError",
          "evalue": "ignored",
          "traceback": [
            "\u001b[0;31m---------------------------------------------------------------------------\u001b[0m",
            "\u001b[0;31mAttributeError\u001b[0m                            Traceback (most recent call last)",
            "\u001b[0;32m<ipython-input-4-fd55666661cd>\u001b[0m in \u001b[0;36m<module>\u001b[0;34m()\u001b[0m\n\u001b[0;32m----> 1\u001b[0;31m \u001b[0mlen\u001b[0m\u001b[0;34m.\u001b[0m\u001b[0mdata\u001b[0m\u001b[0;34m\u001b[0m\u001b[0;34m\u001b[0m\u001b[0m\n\u001b[0m",
            "\u001b[0;31mAttributeError\u001b[0m: 'builtin_function_or_method' object has no attribute 'data'"
          ]
        }
      ]
    },
    {
      "metadata": {
        "id": "ww_wPE4vo5n8",
        "colab_type": "code",
        "colab": {}
      },
      "cell_type": "code",
      "source": [
        ""
      ],
      "execution_count": 0,
      "outputs": []
    },
    {
      "metadata": {
        "id": "KSkNoOmY2_BS",
        "colab_type": "text"
      },
      "cell_type": "markdown",
      "source": [
        "Goal iso combine domain level expertise with deep learning to work on great solutions / products.\n",
        "Deep learning expertise to your industry or projects\n",
        "\n",
        "Ended the video resume watching at week 1 1:16 "
      ]
    },
    {
      "metadata": {
        "id": "9ME-9Fl63QnA",
        "colab_type": "code",
        "colab": {}
      },
      "cell_type": "code",
      "source": [
        "Deep"
      ],
      "execution_count": 0,
      "outputs": []
    }
  ]
}